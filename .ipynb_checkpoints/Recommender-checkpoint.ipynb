{
 "cells": [
  {
   "cell_type": "code",
   "execution_count": 112,
   "metadata": {},
   "outputs": [],
   "source": [
    "import pandas as pd\n",
    "import numpy as np\n",
    "\n",
    "class UserItemData:\n",
    "    def __init__(self, path, from_date = \"\", to_date = \"\", min_ratings = 0):\n",
    "        self.path = path\n",
    "        self.from_date = from_date\n",
    "        self.to_date = to_date\n",
    "        self.min_ratings = min_ratings\n",
    "        self.df = pd.read_csv(self.path , sep = \"\\t\")\n",
    "        if ((self.from_date != \"\") and (self.to_date != \"\")):\n",
    "            fromdate = self.from_date.split(\".\")\n",
    "            fd = fromdate[0]\n",
    "            fm = fromdate[1]\n",
    "            fy = fromdate[2]\n",
    "            todate = self.to_date.split(\".\")\n",
    "            td = todate[0]\n",
    "            tm = todate[1]\n",
    "            ty = todate[2]\n",
    "            self.df = self.df[((self.df.date_year == int(ty)) & ((self.df.date_month < int(tm)) | ((self.df.date_month == int(tm)) & (self.df.date_day < int(td))))) | \n",
    "                               ((self.df.date_year == int(fy)) & ((self.df.date_month > int(fm)) | ((self.df.date_month == int(fm)) & (self.df.date_day > int(fd))))) |\n",
    "                               ((self.df.date_year < int(ty)) & (self.df.date_year > int(ty)))]\n",
    "        if (self.min_ratings > 0):\n",
    "            m = self.df.groupby(['movieID']).size() > self.min_ratings\n",
    "            filt = list(m.index[m.values==True])\n",
    "            self.df = self.df[self.df.movieID.isin(filt)]\n",
    "    def nrating(self):\n",
    "        return(len(self.df))"
   ]
  },
  {
   "cell_type": "code",
   "execution_count": 114,
   "metadata": {},
   "outputs": [
    {
     "name": "stdout",
     "output_type": "stream",
     "text": [
      "855598\n",
      "72724\n"
     ]
    }
   ],
   "source": [
    "uim = UserItemData(path = \"user_ratedmovies.dat\")\n",
    "print(uim.nrating())\n",
    "\n",
    "uim = UserItemData(path = \"user_ratedmovies.dat\", from_date = '12.1.2007', to_date='16.2.2008', min_ratings=100)\n",
    "print(uim.nrating())"
   ]
  },
  {
   "cell_type": "code",
   "execution_count": null,
   "metadata": {},
   "outputs": [],
   "source": []
  },
  {
   "cell_type": "code",
   "execution_count": 3,
   "metadata": {},
   "outputs": [],
   "source": [
    "class MovieData:\n",
    "    def __init__(self, path):\n",
    "        self.path = path\n",
    "        self.df = pd.read_csv(self.path , sep = \"\\t\",encoding = \"ISO-8859-1\")\n",
    "    def get_title(self, n):\n",
    "        return(self.df['title'][self.df.id == n].values[0])"
   ]
  },
  {
   "cell_type": "code",
   "execution_count": 115,
   "metadata": {},
   "outputs": [
    {
     "name": "stdout",
     "output_type": "stream",
     "text": [
      "Toy story\n"
     ]
    }
   ],
   "source": [
    "md = MovieData('movies.dat')\n",
    "print(md.get_title(1))"
   ]
  },
  {
   "cell_type": "code",
   "execution_count": null,
   "metadata": {},
   "outputs": [],
   "source": []
  },
  {
   "cell_type": "code",
   "execution_count": 116,
   "metadata": {},
   "outputs": [],
   "source": [
    "import random\n",
    "\n",
    "class RandomPredictor():\n",
    "    def __init__(self, min_random, max_random):\n",
    "        self.min_random = min_random\n",
    "        self.max_random = max_random\n",
    "        self.df = pd.DataFrame()\n",
    "        self.dict_userID = {}\n",
    "    def fit(self, X):\n",
    "        self.df = X.df\n",
    "    def predict(self, n):\n",
    "        user_ratings = list(set(self.df.movieID))\n",
    "        randnums = np.random.randint(self.min_random, self.max_random+1, len(user_ratings))\n",
    "        randnums = list(randnums)\n",
    "        for i in range(0, len(randnums)):\n",
    "            self.dict_userID[user_ratings[i]] = randnums[i]\n",
    "        return(self.dict_userID)"
   ]
  },
  {
   "cell_type": "code",
   "execution_count": 118,
   "metadata": {},
   "outputs": [
    {
     "name": "stdout",
     "output_type": "stream",
     "text": [
      "<class 'dict'>\n",
      "Movie: Toy story, score: 2\n",
      "Movie: Grumpy Old Men, score: 4\n",
      "Movie: Money Train, score: 1\n",
      "Movie: The Usual Suspects, score: 5\n",
      "Movie: City Hall, score: 3\n"
     ]
    }
   ],
   "source": [
    "md = MovieData('movies.dat')\n",
    "uim = UserItemData('user_ratedmovies.dat') \n",
    "rp = RandomPredictor(1, 5) \n",
    "rp.fit(uim) \n",
    "pred = rp.predict(78) \n",
    "print(type(pred)) \n",
    "items = [1, 3, 20, 50, 100] \n",
    "for item in items: \n",
    "    print(\"Movie: {}, score: {}\".format(md.get_title(item), pred[item]))"
   ]
  },
  {
   "cell_type": "code",
   "execution_count": null,
   "metadata": {},
   "outputs": [],
   "source": []
  },
  {
   "cell_type": "code",
   "execution_count": 119,
   "metadata": {},
   "outputs": [],
   "source": [
    "class Recommender():\n",
    "    def __init__(self, rd):\n",
    "        self.rd = rd\n",
    "        self.dict_userID = {}\n",
    "    def fit(self, X):\n",
    "        self.rd.fit(X)\n",
    "    def recommend(self, userID, n = 10, rec_seen = True):\n",
    "        new_dict = {}\n",
    "        if (rec_seen):\n",
    "            new_dict = self.rd.predict(userID)\n",
    "        else:\n",
    "            new_dict = self.rd.predict(userID)\n",
    "            movie_list = list(set(self.rd.df.movieID[self.rd.df.userID == userID]))\n",
    "            for i in movie_list:\n",
    "                new_dict.pop(i)\n",
    "        sort_dict = dict(sorted(new_dict.items(),key = lambda x:x[1]))\n",
    "        sort_list = list(sort_dict.items())\n",
    "        for i in range(len(sort_list)-1, (len(sort_list)-n-1), -1):\n",
    "            self.dict_userID[sort_list[i][0]] = sort_list[i][1]\n",
    "        return(self.dict_userID)               "
   ]
  },
  {
   "cell_type": "code",
   "execution_count": 122,
   "metadata": {},
   "outputs": [
    {
     "name": "stdout",
     "output_type": "stream",
     "text": [
      "Movie: The Spirit of '76, score: 5\n",
      "Movie: Sin City, score: 5\n",
      "Movie: Knockin' on Heaven's Door, score: 5\n",
      "Movie: Profundo carmesí, score: 5\n",
      "Movie: Dai-bosatsu tôge, score: 5\n"
     ]
    }
   ],
   "source": [
    "md = MovieData('movies.dat') \n",
    "uim = UserItemData('user_ratedmovies.dat') \n",
    "rp = RandomPredictor(1, 5) \n",
    "rec = Recommender(rp) \n",
    "rec.fit(uim) \n",
    "rec_items = rec.recommend(78, n=5, rec_seen=False)\n",
    "for idmovie, val in rec_items.items(): \n",
    "    print(\"Movie: {}, score: {}\".format(md.get_title(idmovie), val)) "
   ]
  },
  {
   "cell_type": "code",
   "execution_count": null,
   "metadata": {},
   "outputs": [],
   "source": []
  },
  {
   "cell_type": "code",
   "execution_count": 123,
   "metadata": {},
   "outputs": [],
   "source": [
    "class AveragePredictor():\n",
    "    def __init__(self, b):\n",
    "        self.b = b\n",
    "    def fit(self, X):\n",
    "        df = X.df\n",
    "        sum_movieID = dict(df.groupby(['movieID']).sum().rating)\n",
    "        size_movieID = dict(df.groupby(['movieID']).size())\n",
    "        mean_movieID = (sum(list(df.rating))/len(list(df.rating)))\n",
    "        indexes_movieID = list(sum_movieID.keys())\n",
    "        actual_rating = {}\n",
    "        for i in indexes_movieID:\n",
    "            actual_rating[i] = (sum_movieID[i] + self.b * mean_movieID) / (size_movieID[i] + self.b)\n",
    "        return(actual_rating)"
   ]
  },
  {
   "cell_type": "code",
   "execution_count": 124,
   "metadata": {},
   "outputs": [
    {
     "name": "stdout",
     "output_type": "stream",
     "text": [
      "Movie: Sonnenallee, score: 5.0\n",
      "Movie: Vals Im Bashir, score: 5.0\n",
      "Movie: Britannia Hospital, score: 5.0\n",
      "Movie: Shu dan long wei, score: 5.0\n",
      "Movie: The Usual Suspects, score: 4.225944245560473\n",
      "Movie: The Godfather: Part II, score: 4.146907937910189\n",
      "Movie: Cidade de Deus, score: 4.116538340205236\n",
      "Movie: The Dark Knight, score: 4.10413904093503\n",
      "Movie: 12 Angry Men, score: 4.103639627096175\n"
     ]
    }
   ],
   "source": [
    "uim = UserItemData('user_ratedmovies.dat')\n",
    "avg_pred1 = AveragePredictor(0)\n",
    "rating1 = avg_pred1.fit(uim)\n",
    "items1 = [53355, 61236, 64280, 7409]\n",
    "for item in items1: \n",
    "    print(\"Movie: {}, score: {}\".format(md.get_title(item), rating1[item]))\n",
    "\n",
    "avg_pred2 = AveragePredictor(100)\n",
    "rating2 = avg_pred2.fit(uim)\n",
    "items2 = [50, 1221, 6016, 58559, 1203]\n",
    "for item in items2: \n",
    "    print(\"Movie: {}, score: {}\".format(md.get_title(item), rating2[item]))"
   ]
  },
  {
   "cell_type": "code",
   "execution_count": null,
   "metadata": {},
   "outputs": [],
   "source": []
  },
  {
   "cell_type": "code",
   "execution_count": 125,
   "metadata": {},
   "outputs": [],
   "source": [
    "import operator\n",
    "\n",
    "class ViewsPredictor():\n",
    "    def __init__(self):\n",
    "        self.df = pd.DataFrame()\n",
    "    def fit(self, X):\n",
    "        self.df = X.df\n",
    "        m = dict(self.df.groupby(['movieID']).size())\n",
    "        sorted_d = dict( sorted(m.items(), key=operator.itemgetter(1),reverse=True))\n",
    "        return(sorted_d)"
   ]
  },
  {
   "cell_type": "code",
   "execution_count": 126,
   "metadata": {},
   "outputs": [
    {
     "name": "stdout",
     "output_type": "stream",
     "text": [
      "Movie: The Matrix, score: 1670\n",
      "Movie: The Lord of the Rings: The Fellowship of the Ring, score: 1576\n",
      "Movie: Forrest Gump, score: 1568\n",
      "Movie: Pulp Fiction, score: 1537\n",
      "Movie: The Lord of the Rings: The Two Towers, score: 1528\n"
     ]
    }
   ],
   "source": [
    "uim = UserItemData('user_ratedmovies.dat')\n",
    "vp = ViewsPredictor()\n",
    "vp_dictionary = vp.fit(uim)\n",
    "for x in list(vp_dictionary)[0:5]:\n",
    "    print(\"Movie: {}, score: {}\".format(md.get_title(x), vp_dictionary[x]))"
   ]
  },
  {
   "cell_type": "code",
   "execution_count": null,
   "metadata": {},
   "outputs": [],
   "source": []
  },
  {
   "cell_type": "code",
   "execution_count": 133,
   "metadata": {},
   "outputs": [],
   "source": [
    "from numpy.linalg import norm\n",
    "import itertools\n",
    "import operator\n",
    "\n",
    "\n",
    "class ItemBasedPredictor():\n",
    "    def __init__(self, min_values=0, threshold=0):\n",
    "        self.min_values = min_values\n",
    "        self.threshold = threshold\n",
    "        self.df = pd.DataFrame()\n",
    "    def fit(self, X):\n",
    "        self.df = X.df\n",
    "    def similarity(self, p1, p2):\n",
    "        movie1 = list(self.df.userID[self.df.movieID == p1])\n",
    "        movie2 = list(self.df.userID[self.df.movieID == p2])\n",
    "        result = list(filter(lambda x: x in movie1, movie2))\n",
    "        sim_df = self.df[self.df.userID.isin(result)]\n",
    "        ratings1 = list(sim_df[sim_df.movieID == p1].rating)\n",
    "        ratings2 = list(sim_df[(sim_df.movieID == p2)].rating)\n",
    "        cos_sim = np.dot(ratings1, ratings2)/(norm(ratings1)*norm(ratings2))\n",
    "        if ((len(sim_df[sim_df.movieID == p1]) > self.min_values) and \n",
    "            (len(sim_df[sim_df.movieID == p2]) > self.min_values) and\n",
    "            (cos_sim < self.threshold)):\n",
    "            cos_sim = 0\n",
    "        return(cos_sim)\n",
    "    def predict(self, n):\n",
    "        user_df = list(self.df.movieID[self.df.userID == n])\n",
    "        pred_dict = {}\n",
    "        for i in list(set(self.df.movieID)):\n",
    "            pred = 0\n",
    "            save_dict = {}\n",
    "            for j in user_df:\n",
    "                if (i != j):\n",
    "                    save_dict[j] = self.similarity(i,j)\n",
    "            pred_enum = 0\n",
    "            pred_denom = 0\n",
    "            for index, val in save_dict.items():\n",
    "                pred_enum += val * self.df.rating[(self.df.movieID == index) & (self.df.userID == n)].values[0]\n",
    "                pred_denom += val\n",
    "            pred = pred_enum/pred_denom\n",
    "            pred_dict[i] = pred\n",
    "        return(pred_dict)\n",
    "    def similarItems(self, item, n):\n",
    "        movies_list = list(set(self.df.movieID))\n",
    "        save_dict = {}\n",
    "        for i in movies_list:\n",
    "            if (i != item):\n",
    "                save_dict[i] = self.similarity(item,i)\n",
    "        \n",
    "        sort_dict = dict( sorted(save_dict.items(), key=operator.itemgetter(1),reverse=True))\n",
    "        ret_dict = dict(itertools.islice(sort_dict.items(), n))\n",
    "        return(ret_dict)\n",
    "    def mostSimilar(self):\n",
    "        movies_list = list(set(self.df.movieID))\n",
    "        save_dict = {}\n",
    "        for i in movies_list:\n",
    "            for j in movies_list:\n",
    "                if (i != j):\n",
    "                    save_dict[(i,j)] = self.similarity(i,j)\n",
    "        sort_dict = dict( sorted(save_dict.items(), key=operator.itemgetter(1),reverse=True))\n",
    "        ret_dict = dict(itertools.islice(sort_dict.items(), 20))\n",
    "        return(ret_dict)\n",
    "                    \n",
    "        \n",
    "        "
   ]
  },
  {
   "cell_type": "code",
   "execution_count": 135,
   "metadata": {},
   "outputs": [
    {
     "name": "stdout",
     "output_type": "stream",
     "text": [
      "Similarity between the movies 'Men in black'(1580) and 'Ghostbusters'(2716):  0.970548659511179\n",
      "Similarity between the movies 'Men in black'(1580) and 'Schindler's List'(527):  0.9619614385295201\n",
      "Similarity between the movies 'Men in black'(1580) and 'Independence day'(780):  0.9536050237785273\n",
      "Predictions for 78: \n",
      "Movie: Sin City, score: 3.9694091991434592\n",
      "Movie: The Usual Suspects, score: 3.9691526760075937\n",
      "Movie: The Silence of the Lambs, score: 3.9686036137411818\n",
      "Movie: Shichinin no samurai, score: 3.9685866520222435\n",
      "Movie: Rain Man, score: 3.9675576234132275\n",
      "Movie: The Incredibles, score: 3.9674499151153153\n",
      "Movie: Batman, score: 3.967232985186039\n",
      "Movie: Monsters, Inc., score: 3.9671265020773543\n",
      "Movie: The Fifth Element, score: 3.9671131441074277\n",
      "Movie: Batman Begins, score: 3.9670883403197696\n",
      "Movie: Good Will Hunting, score: 3.9669952175521286\n",
      "Movie: Toy story, score: 3.966982644503403\n",
      "Movie: A Beautiful Mind, score: 3.9669740875201103\n",
      "Movie: Die Hard, score: 3.9668620236772227\n",
      "Movie: The Fugitive, score: 3.9667922278188374\n"
     ]
    }
   ],
   "source": [
    "md = MovieData('movies.dat')\n",
    "uim = UserItemData('user_ratedmovies.dat', min_ratings=1000)\n",
    "rp = ItemBasedPredictor()\n",
    "rec = Recommender(rp)\n",
    "rec.fit(uim)\n",
    "print(\"Similarity between the movies 'Men in black'(1580) and 'Ghostbusters'(2716): \", rp.similarity(1580, 2716))\n",
    "print(\"Similarity between the movies 'Men in black'(1580) and 'Schindler's List'(527): \", rp.similarity(1580, 527))\n",
    "print(\"Similarity between the movies 'Men in black'(1580) and 'Independence day'(780): \", rp.similarity(1580, 780))\n",
    "print(\"Predictions for 78: \")\n",
    "rec_items = rec.recommend(78, n=15, rec_seen=False)\n",
    "for idmovie, val in rec_items.items():\n",
    "    print(\"Movie: {}, score: {}\".format(md.get_title(idmovie), val))"
   ]
  },
  {
   "cell_type": "code",
   "execution_count": null,
   "metadata": {},
   "outputs": [],
   "source": []
  },
  {
   "cell_type": "code",
   "execution_count": 109,
   "metadata": {},
   "outputs": [
    {
     "name": "stdout",
     "output_type": "stream",
     "text": [
      "Movie1: The Lord of the Rings: The Two Towers, Movie2: The Lord of the Rings: The Return of the King, similarity: 0.9941530195371168\n",
      "Movie1: The Lord of the Rings: The Return of the King, Movie2: The Lord of the Rings: The Two Towers, similarity: 0.9941530195371168\n",
      "Movie1: The Lord of the Rings: The Two Towers, Movie2: The Lord of the Rings: The Fellowship of the Ring, similarity: 0.9934681655627514\n",
      "Movie1: The Lord of the Rings: The Fellowship of the Ring, Movie2: The Lord of the Rings: The Two Towers, similarity: 0.9934681655627514\n",
      "Movie1: The Lord of the Rings: The Fellowship of the Ring, Movie2: The Lord of the Rings: The Return of the King, similarity: 0.9927892914676263\n",
      "Movie1: The Lord of the Rings: The Return of the King, Movie2: The Lord of the Rings: The Fellowship of the Ring, similarity: 0.9927892914676263\n",
      "Movie1: Star Wars: Episode V - The Empire Strikes Back, Movie2: Star Wars, similarity: 0.9904424054653655\n",
      "Movie1: Star Wars, Movie2: Star Wars: Episode V - The Empire Strikes Back, similarity: 0.9904424054653655\n",
      "Movie1: Kill Bill: Vol. 2, Movie2: Kill Bill: Vol. 2, similarity: 0.9900736080237895\n",
      "Movie1: Kill Bill: Vol. 2, Movie2: Kill Bill: Vol. 2, similarity: 0.9900736080237895\n",
      "Movie1: Star Wars: Episode V - The Empire Strikes Back, Movie2: Star Wars: Episode VI - Return of the Jedi, similarity: 0.9891624273546504\n",
      "Movie1: Star Wars: Episode VI - Return of the Jedi, Movie2: Star Wars: Episode V - The Empire Strikes Back, similarity: 0.9891624273546504\n",
      "Movie1: Raiders of the Lost Ark, Movie2: Indiana Jones and the Last Crusade, similarity: 0.9878830117818644\n",
      "Movie1: Indiana Jones and the Last Crusade, Movie2: Raiders of the Lost Ark, similarity: 0.9878830117818644\n",
      "Movie1: Star Wars: Episode VI - Return of the Jedi, Movie2: Star Wars, similarity: 0.9875026928517726\n",
      "Movie1: Star Wars, Movie2: Star Wars: Episode VI - Return of the Jedi, similarity: 0.9875026928517726\n",
      "Movie1: The Usual Suspects, Movie2: The Shawshank Redemption, similarity: 0.985269191816441\n",
      "Movie1: The Shawshank Redemption, Movie2: The Usual Suspects, similarity: 0.985269191816441\n",
      "Movie1: Reservoir Dogs, Movie2: Pulp Fiction, similarity: 0.9848399898904098\n",
      "Movie1: Pulp Fiction, Movie2: Reservoir Dogs, similarity: 0.9848399898904098\n"
     ]
    }
   ],
   "source": [
    "uim = UserItemData('user_ratedmovies.dat', min_ratings=1000)\n",
    "rp = ItemBasedPredictor()\n",
    "rec = Recommender(rp)\n",
    "rec.fit(uim)\n",
    "rec_items = rp.mostSimilar()\n",
    "for idmovie, val in rec_items.items():\n",
    "    print(\"Movie1: {}, Movie2: {}, similarity: {}\".format(md.get_title(idmovie[0]),md.get_title(idmovie[1]), val))\n"
   ]
  },
  {
   "cell_type": "code",
   "execution_count": null,
   "metadata": {},
   "outputs": [],
   "source": []
  },
  {
   "cell_type": "code",
   "execution_count": 136,
   "metadata": {},
   "outputs": [
    {
     "name": "stdout",
     "output_type": "stream",
     "text": [
      "Movies similar to \"The Lord of the Rings: The Fellowship of the Ring\": \n",
      "Movie: The Lord of the Rings: The Two Towers, score: 0.9934681655627514\n",
      "Movie: The Lord of the Rings: The Return of the King, score: 0.9927892914676263\n",
      "Movie: Raiders of the Lost Ark, score: 0.9734510001832855\n",
      "Movie: Indiana Jones and the Last Crusade, score: 0.9728850679878953\n",
      "Movie: Star Wars: Episode V - The Empire Strikes Back, score: 0.9726021706937393\n",
      "Movie: Star Wars, score: 0.9721491648232138\n",
      "Movie: Batman Begins, score: 0.9721482282947644\n",
      "Movie: The Incredibles, score: 0.9719212276327879\n",
      "Movie: The Usual Suspects, score: 0.9718243304335739\n",
      "Movie: Star Wars: Episode VI - Return of the Jedi, score: 0.9710562134338746\n"
     ]
    }
   ],
   "source": [
    "rec_items = rp.similarItems(4993, 10)\n",
    "print('Movies similar to \"The Lord of the Rings: The Fellowship of the Ring\": ')\n",
    "for idmovie, val in rec_items.items():\n",
    "    print(\"Movie: {}, score: {}\".format(md.get_title(idmovie), val))"
   ]
  },
  {
   "cell_type": "code",
   "execution_count": null,
   "metadata": {},
   "outputs": [],
   "source": []
  },
  {
   "cell_type": "code",
   "execution_count": 137,
   "metadata": {},
   "outputs": [
    {
     "name": "stdout",
     "output_type": "stream",
     "text": [
      "Predictions for 71535: \n",
      "Movie: Fargo, score: 4.202642547257465\n",
      "Movie: Reservoir Dogs, score: 4.202600207301209\n",
      "Movie: Wo hu cang long, score: 4.202534492030078\n",
      "Movie: Monty Python and the Holy Grail, score: 4.20245748575363\n",
      "Movie: Blade Runner, score: 4.202368604369937\n"
     ]
    }
   ],
   "source": [
    "md = MovieData('movies.dat')\n",
    "uim = UserItemData('user_ratedmovies.dat', min_ratings = 1000)\n",
    "items = [{'userID':71535, 'movieID':1, 'rating':4.0, 'date_day':27, 'date_month':5, 'date_year':2021, 'date_hour':16, 'date_minute':22, 'date_year':44},\n",
    "         {'userID':71535, 'movieID':4886, 'rating':4.0, 'date_day':27, 'date_month':5, 'date_year':2021, 'date_hour':16, 'date_minute':22, 'date_year':44},\n",
    "         {'userID':71535, 'movieID':4306, 'rating':5.0, 'date_day':27, 'date_month':5, 'date_year':2021, 'date_hour':16, 'date_minute':22, 'date_year':44},\n",
    "         {'userID':71535, 'movieID':5349, 'rating':2.0, 'date_day':27, 'date_month':5, 'date_year':2021, 'date_hour':16, 'date_minute':22, 'date_year':44},\n",
    "         {'userID':71535, 'movieID':32, 'rating':5.0, 'date_day':27, 'date_month':5, 'date_year':2021, 'date_hour':16, 'date_minute':22, 'date_year':44},\n",
    "         {'userID':71535, 'movieID':47, 'rating':3.0, 'date_day':27, 'date_month':5, 'date_year':2021, 'date_hour':16, 'date_minute':22, 'date_year':44},\n",
    "         {'userID':71535, 'movieID':50, 'rating':5.0, 'date_day':27, 'date_month':5, 'date_year':2021, 'date_hour':16, 'date_minute':22, 'date_year':44},\n",
    "         {'userID':71535, 'movieID':296, 'rating':5.0, 'date_day':27, 'date_month':5, 'date_year':2021, 'date_hour':16, 'date_minute':22, 'date_year':44},\n",
    "         {'userID':71535, 'movieID':318, 'rating':5.0, 'date_day':27, 'date_month':5, 'date_year':2021, 'date_hour':16, 'date_minute':22, 'date_year':44},\n",
    "         {'userID':71535, 'movieID':5445, 'rating':3.0, 'date_day':27, 'date_month':5, 'date_year':2021, 'date_hour':16, 'date_minute':22, 'date_year':44},\n",
    "         {'userID':71535, 'movieID':858, 'rating':5.0, 'date_day':27, 'date_month':5, 'date_year':2021, 'date_hour':16, 'date_minute':22, 'date_year':44},\n",
    "         {'userID':71535, 'movieID':367, 'rating':5.0, 'date_day':27, 'date_month':5, 'date_year':2021, 'date_hour':16, 'date_minute':22, 'date_year':44},\n",
    "         {'userID':71535, 'movieID':377, 'rating':4.0, 'date_day':27, 'date_month':5, 'date_year':2021, 'date_hour':16, 'date_minute':22, 'date_year':44},\n",
    "         {'userID':71535, 'movieID':4993, 'rating':5.0, 'date_day':27, 'date_month':5, 'date_year':2021, 'date_hour':16, 'date_minute':22, 'date_year':44},\n",
    "         {'userID':71535, 'movieID':457, 'rating':4.0, 'date_day':27, 'date_month':5, 'date_year':2021, 'date_hour':16, 'date_minute':22, 'date_year':44},\n",
    "         {'userID':71535, 'movieID':480, 'rating':3.0, 'date_day':27, 'date_month':5, 'date_year':2021, 'date_hour':16, 'date_minute':22, 'date_year':44},\n",
    "         {'userID':71535, 'movieID':2028, 'rating':4.0, 'date_day':27, 'date_month':5, 'date_year':2021, 'date_hour':16, 'date_minute':22, 'date_year':44},\n",
    "         {'userID':71535, 'movieID':7153, 'rating':5.0, 'date_day':27, 'date_month':5, 'date_year':2021, 'date_hour':16, 'date_minute':22, 'date_year':44},\n",
    "         {'userID':71535, 'movieID':1527, 'rating':3.0, 'date_day':27, 'date_month':5, 'date_year':2021, 'date_hour':16, 'date_minute':22, 'date_year':44},\n",
    "         {'userID':71535, 'movieID':3578, 'rating':5.0, 'date_day':27, 'date_month':5, 'date_year':2021, 'date_hour':16, 'date_minute':22, 'date_year':44}]\n",
    "uim.df = uim.df.append(items, ignore_index=True)\n",
    "rp = ItemBasedPredictor()\n",
    "rec = Recommender(rp)\n",
    "rec.fit(uim)\n",
    "print(\"Predictions for 71535: \")\n",
    "rec_items = rec.recommend(71535, n=5, rec_seen=False)\n",
    "for idmovie, val in rec_items.items():\n",
    "    print(\"Movie: {}, score: {}\".format(md.get_title(idmovie), val))"
   ]
  },
  {
   "cell_type": "code",
   "execution_count": null,
   "metadata": {},
   "outputs": [],
   "source": []
  },
  {
   "cell_type": "code",
   "execution_count": null,
   "metadata": {},
   "outputs": [],
   "source": []
  },
  {
   "cell_type": "code",
   "execution_count": null,
   "metadata": {},
   "outputs": [],
   "source": []
  },
  {
   "cell_type": "code",
   "execution_count": 138,
   "metadata": {},
   "outputs": [],
   "source": [
    "class SlopeOnePredictor():\n",
    "    def __init__(self):\n",
    "        self.df = pd.DataFrame()\n",
    "    def fit(self, X):\n",
    "        self.df = X.df\n",
    "    def predict(self, n):\n",
    "        predicted_movies = {}\n",
    "        user_df = self.df[self.df.userID == n]\n",
    "        for j in list(set(self.df.movieID)):\n",
    "            if (j not in list(set(user_df.movieID))):\n",
    "                save_dict = {}\n",
    "                users1 = list(self.df.userID[self.df.movieID == j])\n",
    "                for i in list(set(self.df.movieID)):\n",
    "                    if (i != j and i in list(set(user_df.movieID))):\n",
    "                        users2 = list(self.df.userID[self.df.movieID == i])\n",
    "                        result = list(filter(lambda x: x in users1, users2))\n",
    "                        dev = 0\n",
    "                        for k in result:\n",
    "                            dev += self.df.rating[(self.df.movieID == j) & (self.df.userID == k)].values[0] - self.df.rating[(self.df.movieID == i) & (self.df.userID == k)].values[0]\n",
    "                        save_dict[i] = (dev/len(result),len(result))\n",
    "                pred_enum = 0\n",
    "                pred_denom = 0\n",
    "                for idmovie,value in save_dict.items():\n",
    "                    pred_enum += (value[0] + user_df.rating[user_df.movieID==idmovie].values[0])*value[1]\n",
    "                    pred_denom += value[1]\n",
    "                predicted_movies[j] = pred_enum/pred_denom\n",
    "        return(predicted_movies)\n"
   ]
  },
  {
   "cell_type": "code",
   "execution_count": 140,
   "metadata": {},
   "outputs": [
    {
     "name": "stdout",
     "output_type": "stream",
     "text": [
      "Predictions for 78: \n",
      "Movie: The Shawshank Redemption, score: 4.633333333333334\n",
      "Movie: Fight Club, score: 4.575388026607539\n",
      "Movie: Pulp Fiction, score: 4.527088036117381\n",
      "Movie: The Matrix, score: 4.4978991596638656\n",
      "Movie: Memento, score: 4.41147132169576\n"
     ]
    }
   ],
   "source": [
    "md = MovieData('movies.dat') \n",
    "uim = UserItemData(\"user_ratedmovies.dat\", from_date = '12.1.2007', to_date='16.2.2008', min_ratings=300)\n",
    "rp = SlopeOnePredictor() \n",
    "rec = Recommender(rp) \n",
    "rec.fit(uim)\n",
    "\n",
    "print(\"Predictions for 78: \") \n",
    "rec_items = rec.recommend(78, n=5, rec_seen=True) \n",
    "for idmovie, val in rec_items.items():\n",
    "    print(\"Movie: {}, score: {}\".format(md.get_title(idmovie), val))"
   ]
  },
  {
   "cell_type": "code",
   "execution_count": null,
   "metadata": {},
   "outputs": [],
   "source": []
  },
  {
   "cell_type": "code",
   "execution_count": null,
   "metadata": {},
   "outputs": [],
   "source": []
  }
 ],
 "metadata": {
  "kernelspec": {
   "display_name": "Python 3",
   "language": "python",
   "name": "python3"
  },
  "language_info": {
   "codemirror_mode": {
    "name": "ipython",
    "version": 3
   },
   "file_extension": ".py",
   "mimetype": "text/x-python",
   "name": "python",
   "nbconvert_exporter": "python",
   "pygments_lexer": "ipython3",
   "version": "3.8.5"
  }
 },
 "nbformat": 4,
 "nbformat_minor": 4
}
